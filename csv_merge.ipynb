{
 "cells": [
  {
   "cell_type": "code",
   "execution_count": 1,
   "metadata": {},
   "outputs": [],
   "source": [
    "import os\n",
    "import glob\n",
    "import pandas as pd\n",
    "os.chdir(\"trip_data\")"
   ]
  },
  {
   "cell_type": "code",
   "execution_count": 2,
   "metadata": {},
   "outputs": [
    {
     "data": {
      "text/html": [
       "<div>\n",
       "<style scoped>\n",
       "    .dataframe tbody tr th:only-of-type {\n",
       "        vertical-align: middle;\n",
       "    }\n",
       "\n",
       "    .dataframe tbody tr th {\n",
       "        vertical-align: top;\n",
       "    }\n",
       "\n",
       "    .dataframe thead th {\n",
       "        text-align: right;\n",
       "    }\n",
       "</style>\n",
       "<table border=\"1\" class=\"dataframe\">\n",
       "  <thead>\n",
       "    <tr style=\"text-align: right;\">\n",
       "      <th></th>\n",
       "      <th>Duration</th>\n",
       "      <th>Start date</th>\n",
       "      <th>End date</th>\n",
       "      <th>Start station number</th>\n",
       "      <th>Start station</th>\n",
       "      <th>End station number</th>\n",
       "      <th>End station</th>\n",
       "      <th>Bike number</th>\n",
       "      <th>Member type</th>\n",
       "    </tr>\n",
       "  </thead>\n",
       "  <tbody>\n",
       "    <tr>\n",
       "      <td>0</td>\n",
       "      <td>2389</td>\n",
       "      <td>2015-01-01 00:02:44</td>\n",
       "      <td>2015-01-01 00:42:33</td>\n",
       "      <td>31271</td>\n",
       "      <td>Constitution Ave &amp; 2nd St NW/DOL</td>\n",
       "      <td>31254</td>\n",
       "      <td>15th &amp; K St NW</td>\n",
       "      <td>W01140</td>\n",
       "      <td>Casual</td>\n",
       "    </tr>\n",
       "    <tr>\n",
       "      <td>1</td>\n",
       "      <td>2394</td>\n",
       "      <td>2015-01-01 00:02:46</td>\n",
       "      <td>2015-01-01 00:42:41</td>\n",
       "      <td>31271</td>\n",
       "      <td>Constitution Ave &amp; 2nd St NW/DOL</td>\n",
       "      <td>31254</td>\n",
       "      <td>15th &amp; K St NW</td>\n",
       "      <td>W00612</td>\n",
       "      <td>Casual</td>\n",
       "    </tr>\n",
       "    <tr>\n",
       "      <td>2</td>\n",
       "      <td>468</td>\n",
       "      <td>2015-01-01 00:04:32</td>\n",
       "      <td>2015-01-01 00:12:20</td>\n",
       "      <td>31204</td>\n",
       "      <td>20th &amp; E St NW</td>\n",
       "      <td>31234</td>\n",
       "      <td>20th &amp; O St NW / Dupont South</td>\n",
       "      <td>W01226</td>\n",
       "      <td>Member</td>\n",
       "    </tr>\n",
       "    <tr>\n",
       "      <td>3</td>\n",
       "      <td>348</td>\n",
       "      <td>2015-01-01 00:07:18</td>\n",
       "      <td>2015-01-01 00:13:06</td>\n",
       "      <td>31602</td>\n",
       "      <td>Park Rd &amp; Holmead Pl NW</td>\n",
       "      <td>31117</td>\n",
       "      <td>15th &amp; Euclid St  NW</td>\n",
       "      <td>W20216</td>\n",
       "      <td>Member</td>\n",
       "    </tr>\n",
       "    <tr>\n",
       "      <td>4</td>\n",
       "      <td>980</td>\n",
       "      <td>2015-01-01 00:09:39</td>\n",
       "      <td>2015-01-01 00:26:00</td>\n",
       "      <td>31247</td>\n",
       "      <td>Jefferson Dr &amp; 14th St SW</td>\n",
       "      <td>31241</td>\n",
       "      <td>Thomas Circle</td>\n",
       "      <td>W21005</td>\n",
       "      <td>Casual</td>\n",
       "    </tr>\n",
       "  </tbody>\n",
       "</table>\n",
       "</div>"
      ],
      "text/plain": [
       "   Duration           Start date             End date  Start station number  \\\n",
       "0      2389  2015-01-01 00:02:44  2015-01-01 00:42:33                 31271   \n",
       "1      2394  2015-01-01 00:02:46  2015-01-01 00:42:41                 31271   \n",
       "2       468  2015-01-01 00:04:32  2015-01-01 00:12:20                 31204   \n",
       "3       348  2015-01-01 00:07:18  2015-01-01 00:13:06                 31602   \n",
       "4       980  2015-01-01 00:09:39  2015-01-01 00:26:00                 31247   \n",
       "\n",
       "                      Start station  End station number  \\\n",
       "0  Constitution Ave & 2nd St NW/DOL               31254   \n",
       "1  Constitution Ave & 2nd St NW/DOL               31254   \n",
       "2                    20th & E St NW               31234   \n",
       "3           Park Rd & Holmead Pl NW               31117   \n",
       "4         Jefferson Dr & 14th St SW               31241   \n",
       "\n",
       "                     End station Bike number Member type  \n",
       "0                 15th & K St NW      W01140      Casual  \n",
       "1                 15th & K St NW      W00612      Casual  \n",
       "2  20th & O St NW / Dupont South      W01226      Member  \n",
       "3           15th & Euclid St  NW      W20216      Member  \n",
       "4                  Thomas Circle      W21005      Casual  "
      ]
     },
     "execution_count": 2,
     "metadata": {},
     "output_type": "execute_result"
    }
   ],
   "source": [
    "###########################################################################\n",
    "# The original file merge resulted in a csv that exceeded the github file\n",
    "# restriction. For purposes of demonstrating code, two files have been\n",
    "# uploaded to github. The presented project merged 50 files with this code\n",
    "# and was perfomed with files stored on a local machine.\n",
    "##########################################################################\n",
    "\n",
    "extension = 'csv'\n",
    "all_filenames = [i for i in glob.glob('*.{}'.format(extension))]\n",
    "#combine all files in the list\n",
    "combined_df = pd.concat([pd.read_csv(f) for f in all_filenames ])\n",
    "combined_df.head()"
   ]
  },
  {
   "cell_type": "code",
   "execution_count": 3,
   "metadata": {},
   "outputs": [],
   "source": [
    "#export to csv\n",
    "combined_df.to_csv( \"combined_df.csv\", index=False, encoding='utf-8-sig')"
   ]
  },
  {
   "cell_type": "code",
   "execution_count": 5,
   "metadata": {},
   "outputs": [
    {
     "data": {
      "text/plain": [
       "(34437556, 9)"
      ]
     },
     "execution_count": 5,
     "metadata": {},
     "output_type": "execute_result"
    }
   ],
   "source": [
    "combined_df.shape"
   ]
  },
  {
   "cell_type": "code",
   "execution_count": null,
   "metadata": {},
   "outputs": [],
   "source": []
  }
 ],
 "metadata": {
  "kernelspec": {
   "display_name": "Python 3",
   "language": "python",
   "name": "python3"
  },
  "language_info": {
   "codemirror_mode": {
    "name": "ipython",
    "version": 3
   },
   "file_extension": ".py",
   "mimetype": "text/x-python",
   "name": "python",
   "nbconvert_exporter": "python",
   "pygments_lexer": "ipython3",
   "version": "3.7.4"
  }
 },
 "nbformat": 4,
 "nbformat_minor": 2
}
